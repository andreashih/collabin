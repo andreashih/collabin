{
 "cells": [
  {
   "cell_type": "markdown",
   "metadata": {},
   "source": [
    "# IG Scraper"
   ]
  },
  {
   "cell_type": "code",
   "execution_count": null,
   "metadata": {},
   "outputs": [],
   "source": [
    "## Install IG scraper"
   ]
  },
  {
   "cell_type": "code",
   "execution_count": null,
   "metadata": {},
   "outputs": [],
   "source": [
    "$ pip install instagram-scraper"
   ]
  },
  {
   "cell_type": "code",
   "execution_count": null,
   "metadata": {},
   "outputs": [],
   "source": [
    "$ pip install instagram-scraper --upgrade"
   ]
  },
  {
   "cell_type": "markdown",
   "metadata": {},
   "source": [
    "## Usage"
   ]
  },
  {
   "cell_type": "code",
   "execution_count": 11,
   "metadata": {},
   "outputs": [],
   "source": [
    "# To scrape a users media <yolayyc> (login in if private account)"
   ]
  },
  {
   "cell_type": "code",
   "execution_count": 10,
   "metadata": {
    "scrolled": true
   },
   "outputs": [
    {
     "name": "stdout",
     "output_type": "stream",
     "text": [
      "Searching yolayyc for profile pic: 100% 1/1 [00:00<00:00, 1605.17 images/s]\n",
      "Searching yolayyc for posts: 282 media [00:28,  9.86 media/s]\n",
      "Downloading: 100%|##########| 283/283 [00:00<00:00, 59080.58it/s]\n"
     ]
    }
   ],
   "source": [
    "!instagram-scraper yolayyc"
   ]
  },
  {
   "cell_type": "code",
   "execution_count": null,
   "metadata": {},
   "outputs": [],
   "source": [
    "# Specify media types to scrape. Enter as space separated values. \n",
    "# Valid values are image, video, story (story-image & story-video), or none. Stories require a --login-user and --login-pass to be defined."
   ]
  },
  {
   "cell_type": "code",
   "execution_count": 15,
   "metadata": {},
   "outputs": [
    {
     "name": "stdout",
     "output_type": "stream",
     "text": [
      "Searching iakuhs for profile pic: 100% 1/1 [00:00<00:00, 1503.33 images/s]\n",
      "Searching iakuhs for posts: 47 media [00:04, 10.46 media/s]\n",
      "Downloading: 100%|##########| 48/48 [00:06<00:00,  7.42it/s]\n"
     ]
    }
   ],
   "source": [
    "!instagram-scraper iakuhs -t image"
   ]
  },
  {
   "cell_type": "code",
   "execution_count": 19,
   "metadata": {},
   "outputs": [],
   "source": [
    "# Saves the media metadata associated with the user's posts to <destination>/<username>.json.  \n",
    "# Can be combined with --media-types none to only fetch the metadata without downloading the media."
   ]
  },
  {
   "cell_type": "code",
   "execution_count": 17,
   "metadata": {},
   "outputs": [
    {
     "name": "stdout",
     "output_type": "stream",
     "text": [
      "Searching yolayyc for profile pic: 100% 1/1 [00:00<00:00, 1760.83 images/s]\n",
      "Searching yolayyc for posts: 282 media [00:30,  9.36 media/s]\n",
      "Downloading: 100%|##########| 283/283 [00:00<00:00, 78050.24it/s]\n"
     ]
    }
   ],
   "source": [
    "!instagram-scraper yolayyc --media-metadata"
   ]
  },
  {
   "cell_type": "code",
   "execution_count": null,
   "metadata": {},
   "outputs": [],
   "source": [
    "# Saves the comment metadata associated with the posts to <destination>/<username>.json. \n",
    "# Can be combined with --media-types noneto only fetch the metadata without downloading the media."
   ]
  },
  {
   "cell_type": "code",
   "execution_count": 26,
   "metadata": {},
   "outputs": [],
   "source": [
    "# !instagram-scraper jet___official --comments I"
   ]
  },
  {
   "cell_type": "code",
   "execution_count": 22,
   "metadata": {},
   "outputs": [],
   "source": [
    "# Saves the user profile metadata to  <destination>/<username>.json."
   ]
  },
  {
   "cell_type": "code",
   "execution_count": 23,
   "metadata": {},
   "outputs": [
    {
     "name": "stdout",
     "output_type": "stream",
     "text": [
      "Searching yolayyc for profile pic: 100% 1/1 [00:00<00:00, 1795.51 images/s]\n",
      "Searching yolayyc for posts: 282 media [00:27, 10.32 media/s]\n",
      "Downloading: 100%|##########| 283/283 [00:00<00:00, 76982.17it/s]\n"
     ]
    }
   ],
   "source": [
    "!instagram-scraper yolayyc --profile-metadata"
   ]
  },
  {
   "cell_type": "code",
   "execution_count": null,
   "metadata": {},
   "outputs": [],
   "source": [
    "# To scrape a hashtag for media with a maximum of 50 posts"
   ]
  },
  {
   "cell_type": "code",
   "execution_count": 12,
   "metadata": {},
   "outputs": [
    {
     "name": "stdout",
     "output_type": "stream",
     "text": [
      "Searching love for profile pic: 100% 1/1 [00:00<00:00, 1360.46 images/s]\n",
      "Searching love for posts: 1 media [00:01,  1.31s/ media]\n",
      "Downloading: 100%|##########| 51/51 [00:00<00:00, 20407.32it/s]\n"
     ]
    }
   ],
   "source": [
    "!Instagram-scraper love -m 50"
   ]
  },
  {
   "cell_type": "code",
   "execution_count": null,
   "metadata": {},
   "outputs": [],
   "source": []
  },
  {
   "cell_type": "code",
   "execution_count": null,
   "metadata": {},
   "outputs": [],
   "source": [
    "# Reference: IG Scrapper (https://github.com/rarcega/instagram-scraper)"
   ]
  }
 ],
 "metadata": {
  "kernelspec": {
   "display_name": "deeplearning",
   "language": "python",
   "name": "deeplearning"
  },
  "language_info": {
   "codemirror_mode": {
    "name": "ipython",
    "version": 3
   },
   "file_extension": ".py",
   "mimetype": "text/x-python",
   "name": "python",
   "nbconvert_exporter": "python",
   "pygments_lexer": "ipython3",
   "version": "3.8.2"
  }
 },
 "nbformat": 4,
 "nbformat_minor": 4
}
